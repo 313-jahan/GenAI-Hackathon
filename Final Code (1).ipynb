{
 "cells": [
  {
   "cell_type": "markdown",
   "id": "28b54322-b94f-4e99-8b0d-191f92e82328",
   "metadata": {},
   "source": [
    "## Mistral 7b Instruct Model - Pipeline"
   ]
  },
  {
   "cell_type": "code",
   "execution_count": 7,
   "id": "cd4e83c8-372d-4500-a063-2bb0cfaa4a76",
   "metadata": {},
   "outputs": [
    {
     "name": "stderr",
     "output_type": "stream",
     "text": [
      "/opt/intel/oneapi/intelpython/envs/pytorch-gpu/lib/python3.9/site-packages/torchvision/io/image.py:13: UserWarning: Failed to load image Python extension: ''If you don't plan on using image functionality from `torchvision.io`, you can ignore this warning. Otherwise, there might be something wrong with your environment. Did you have `libjpeg` or `libpng` installed before building `torchvision` from source?\n",
      "  warn(\n"
     ]
    },
    {
     "data": {
      "application/vnd.jupyter.widget-view+json": {
       "model_id": "f70b0fd5ef334d6a833cd630c7c91656",
       "version_major": 2,
       "version_minor": 0
      },
      "text/plain": [
       "Loading checkpoint shards:   0%|          | 0/2 [00:00<?, ?it/s]"
      ]
     },
     "metadata": {},
     "output_type": "display_data"
    }
   ],
   "source": [
    "#import required dependencies\n",
    "import torch\n",
    "import intel_extension_for_pytorch as ipex\n",
    "from transformers import (\n",
    "    AutoModelForCausalLM,\n",
    "    AutoTokenizer,\n",
    "    GenerationConfig,\n",
    "    TextStreamer,\n",
    "    pipeline,\n",
    ")\n",
    "\n",
    "\n",
    "#Load the model via pipeline\n",
    "MODEL_NAME = \"mistralai/Mistral-7B-Instruct-v0.1\"\n",
    "\n",
    "tokenizer = AutoTokenizer.from_pretrained(MODEL_NAME)\n",
    "model = AutoModelForCausalLM.from_pretrained(\n",
    "    MODEL_NAME, torch_dtype=torch.bfloat16)\n",
    "\n",
    "\n",
    "generation_config = GenerationConfig.from_pretrained(MODEL_NAME)\n",
    "generation_config.max_new_tokens = 1024\n",
    "generation_config.temperature = 0.0001\n",
    "generation_config.do_sample = True"
   ]
  },
  {
   "cell_type": "code",
   "execution_count": 8,
   "id": "ace623fa-c487-496d-a373-bc2541381779",
   "metadata": {},
   "outputs": [],
   "source": [
    "streamer = TextStreamer(tokenizer, skip_prompt=True, skip_special_tokens=True)"
   ]
  },
  {
   "cell_type": "code",
   "execution_count": 9,
   "id": "d8aa18da-dc82-44aa-aaa6-92447cc5836e",
   "metadata": {},
   "outputs": [],
   "source": [
    "llm = pipeline(\n",
    "    \"text-generation\",\n",
    "    model=model,\n",
    "    tokenizer=tokenizer,\n",
    "    return_full_text=False,\n",
    "    generation_config=generation_config,\n",
    "    num_return_sequences=1,\n",
    "    eos_token_id=tokenizer.eos_token_id,\n",
    "    pad_token_id=tokenizer.eos_token_id,\n",
    "    streamer=streamer,\n",
    "    device=0,\n",
    ")"
   ]
  },
  {
   "cell_type": "markdown",
   "id": "0af26ac5-3e5f-4f4f-99fb-cdf0572ad2cd",
   "metadata": {},
   "source": [
    "## Stage 1: Major Components Table"
   ]
  },
  {
   "cell_type": "code",
   "execution_count": 10,
   "id": "78b19017-d4ae-4e48-9abe-3760c390a55c",
   "metadata": {},
   "outputs": [
    {
     "name": "stdin",
     "output_type": "stream",
     "text": [
      "Enter a major components product name and their versions that needs to be converted to tabular format: 'Intel® oneAPI DPC++ Compiler',2024.0.2,'Intel® oneAPI DPC++ Library', 2022.3.0,'Intel® DPC++ Compatibility Tool', 2024.0.0,'Intel® oneAPI Math Kernel Library', 2024.0.0,'Intel® Distribution for GDB', 2024.0.0,'Intel® VTune™ Profiler', 2024.0.0,'Intel® Advisor', 2024.0.0,'Intel® oneAPI Threading Building Blocks', 2021.11.0,'Intel® Integrated Performance Primitives', 2021.10.0,'Intel® Integrated Performance Primitives Cryptography', 2021.9.1,'Intel® oneAPI Collective Communications Library',2021.11.2,'Intel® oneAPI Data Analytics Library',2024.0.1,'Intel® oneAPI Deep Neural Networks Library'2024.0.0\n"
     ]
    }
   ],
   "source": [
    "#Give the input with the Major Component names and their versions which needs to be converted to a table\n",
    "s1 = input(\"Enter a major components product name and their versions that needs to be converted to tabular format:\")"
   ]
  },
  {
   "cell_type": "code",
   "execution_count": 11,
   "id": "88d25acb-cef1-4b78-be85-698c7fb561b5",
   "metadata": {},
   "outputs": [],
   "source": [
    "#Prompt to convert given input to HTML Tabular format\n",
    "text1 = \"<s>[INST] Using the paragraph, create a HTML table. Make the table with solid borders and alternate grey color to rows\" + s1 + \" [/INST]\""
   ]
  },
  {
   "cell_type": "code",
   "execution_count": 12,
   "id": "b237552f-7d48-4e8e-8d3b-05a960665c9f",
   "metadata": {},
   "outputs": [
    {
     "name": "stdout",
     "output_type": "stream",
     "text": [
      "<table border=\"1\" style=\"border-collapse: collapse;\">\n",
      " <tr style=\"background-color: #f2f2f2;\">\n",
      "   <th>Product</th>\n",
      "   <th>Version</th>\n",
      " </tr>\n",
      " <tr>\n",
      "   <td>Intel® oneAPI DPC++ Compiler</td>\n",
      "   <td>2024.0.2</td>\n",
      " </tr>\n",
      " <tr>\n",
      "   <td>Intel® oneAPI DPC++ Library</td>\n",
      "   <td>2022.3.0</td>\n",
      " </tr>\n",
      " <tr>\n",
      "   <td>Intel® DPC++ Compatibility Tool</td>\n",
      "   <td>2024.0.0</td>\n",
      " </tr>\n",
      " <tr>\n",
      "   <td>Intel® oneAPI Math Kernel Library</td>\n",
      "   <td>2024.0.0</td>\n",
      " </tr>\n",
      " <tr>\n",
      "   <td>Intel® Distribution for GDB</td>\n",
      "   <td>2024.0.0</td>\n",
      " </tr>\n",
      " <tr>\n",
      "   <td>Intel® VTune™ Profiler</td>\n",
      "   <td>2024.0.0</td>\n",
      " </tr>\n",
      " <tr>\n",
      "   <td>Intel® Advisor</td>\n",
      "   <td>2024.0.0</td>\n",
      " </tr>\n",
      " <tr>\n",
      "   <td>Intel® oneAPI Threading Building Blocks</td>\n",
      "   <td>2021.11.0</td>\n",
      " </tr>\n",
      " <tr>\n",
      "   <td>Intel® Integrated Performance Primitives</td>\n",
      "   <td>2021.10.0</td>\n",
      " </tr>\n",
      " <tr>\n",
      "   <td>Intel® Integrated Performance Primitives Cryptography</td>\n",
      "   <td>2021.9.1</td>\n",
      " </tr>\n",
      " <tr>\n",
      "   <td>Intel® oneAPI Collective Communications Library</td>\n",
      "   <td>2021.11.2</td>\n",
      " </tr>\n",
      " <tr>\n",
      "   <td>Intel® oneAPI Data Analytics Library</td>\n",
      "   <td>2024.0.1</td>\n",
      " </tr>\n",
      " <tr>\n",
      "   <td>Intel® oneAPI Deep Neural Networks Library</td>\n",
      "   <td>2024.0.0</td>\n",
      " </tr>\n",
      "</table>\n",
      "CPU times: user 26.3 s, sys: 1.11 s, total: 27.4 s\n",
      "Wall time: 27.6 s\n"
     ]
    }
   ],
   "source": [
    "#\n",
    "%%time\n",
    "result1 = llm(text1)"
   ]
  },
  {
   "cell_type": "markdown",
   "id": "0c26508d-b398-46d8-9933-58cc028422bd",
   "metadata": {},
   "source": [
    "## Stage 2: Release Notes"
   ]
  },
  {
   "cell_type": "code",
   "execution_count": 13,
   "id": "19742ded-9e5a-4f29-9c1b-eedbeaad6a31",
   "metadata": {},
   "outputs": [
    {
     "name": "stdin",
     "output_type": "stream",
     "text": [
      "Enter a paragraph that needs to be converted to Release Notes: The release patch releases for different component has been included in this release.  Intel® oneAPI Base Toolkit 2024.1.0 now supports Fedora 39 for CPU. These patches are build of top of previous patches as required.  The Intel® oneAPI DPC++/C++ Compiler is the industry's first compiler conformant with SYCL 2020 allowing developers to write code once and run it on a  variety of different processors using standard C++ making developers more productive by reducing development time and effort. DPC++ 2024.0.2 has only minor bug fixes.  IPP 2021.10.0 Cryptography has fixed an algorithmic issue with AES-XTS Intel AVX-512 code path. oneCCL 2021.11.2 has a bug fix to main driver compactability for Intel Data Centre GPU Max series. oneDAL has new features and bug fixes.\n"
     ]
    }
   ],
   "source": [
    "#Give the Input text that \n",
    "s2 = input(\"Enter a paragraph that needs to be converted to Release Notes:\")"
   ]
  },
  {
   "cell_type": "code",
   "execution_count": 14,
   "id": "d7fc3809-bf85-4646-9172-9a2d080835c4",
   "metadata": {},
   "outputs": [],
   "source": [
    "def format_prompt(prompt, system_prompt=\"\"):\n",
    "    if system_prompt.strip():\n",
    "        return f\"<s>[INST] {system_prompt} {prompt} [/INST]\"\n",
    "    return f\"<s>[INST] {prompt} [/INST]\""
   ]
  },
  {
   "cell_type": "code",
   "execution_count": 15,
   "id": "b7610472-d930-4311-93a8-213c988c4a28",
   "metadata": {},
   "outputs": [],
   "source": [
    "SYSTEM_PROMPT = s2.strip()"
   ]
  },
  {
   "cell_type": "code",
   "execution_count": 22,
   "id": "f8ab3dc1-c5ad-4e8f-a609-61262209b8e2",
   "metadata": {},
   "outputs": [],
   "source": [
    "prompt = \"\"\"\n",
    "Can you follow the below template for this:\n",
    "Product Level Updates where general points of release notes are given.\n",
    "Component Level Updates where component release notes are given.\n",
    "Do not write complete sentences, only short points as per the below format:\n",
    "\n",
    "<h1> <Product Name> <Major Version> </h1>\n",
    "<h2> New in <Product Name> </h2>\n",
    "\t<h3> Product Level Updates: </h3>\n",
    "    \t\t  <ul><li> <h5> <Point #1> </h5>\n",
    "    \t\t       <h5>  <Point #2> </h5> </li></ul>\n",
    "    <h3> Component Level Updates: <h3>\n",
    "        <h4> <Component Name> <Version No:> </h4>\n",
    "              <ul><li> <h5>  <Point #1> </h5>\n",
    "                    <h5> <Point #2> </h5></li> </ul>\n",
    "    \n",
    "\"\"\".strip()"
   ]
  },
  {
   "cell_type": "code",
   "execution_count": 23,
   "id": "30a0c0b0-2f5c-4031-8c8b-d8dc7a173e26",
   "metadata": {},
   "outputs": [
    {
     "name": "stdout",
     "output_type": "stream",
     "text": [
      "<h1> Intel® oneAPI Base Toolkit 2024.1.0 </h1>\n",
      "<h2> New in Intel® oneAPI Base Toolkit </h2>\n",
      "<h3> Product Level Updates: </h3>\n",
      "<ul><li> Supports Fedora 39 for CPU </li>\n",
      "<li> Industry's first compiler conformant with SYCL 2020 </li></ul>\n",
      "<h3> Component Level Updates: </h3>\n",
      "<h4> Intel® oneAPI DPC++/C++ Compiler </h4>\n",
      "<ul><li> DPC++ 2024.0.2 has only minor bug fixes </li></ul>\n",
      "<h4> Intel® Performance Primitives (IPP) </h4>\n",
      "<ul><li> IPP 2021.10.0 Cryptography has fixed an algorithmic issue with AES-XTS Intel AVX-512 code path </li></ul>\n",
      "<h4> Intel® oneCCL </h4>\n",
      "<ul><li> oneCCL 2021.11.2 has a bug fix to main driver compactability for Intel Data Centre GPU Max series </li></ul>\n",
      "<h4> Intel® oneDAL </h4>\n",
      "<ul><li> oneDAL has new features and bug fixes </li></ul>\n",
      "CPU times: user 12.6 s, sys: 307 ms, total: 12.9 s\n",
      "Wall time: 12.9 s\n"
     ]
    }
   ],
   "source": [
    "%%time\n",
    "result2 = llm(format_prompt(prompt, SYSTEM_PROMPT))"
   ]
  },
  {
   "cell_type": "markdown",
   "id": "96b959e9-6421-4e46-94bf-da6ec6ef9d24",
   "metadata": {},
   "source": [
    "## HTML Output"
   ]
  },
  {
   "cell_type": "code",
   "execution_count": 24,
   "id": "feeea63a-d66d-4840-90c5-b1dca86358b4",
   "metadata": {},
   "outputs": [],
   "source": [
    "lines = result2[0]['generated_text'].split('\\n')"
   ]
  },
  {
   "cell_type": "code",
   "execution_count": 25,
   "id": "574c7d51-07f8-48c7-b2e3-6b050371e78e",
   "metadata": {},
   "outputs": [],
   "source": [
    "html_str1 = \"<html> <font face='IntelOne Display Regular'>\" + lines[0]"
   ]
  },
  {
   "cell_type": "code",
   "execution_count": 26,
   "id": "a69dd270-3575-4c6b-bafb-4d4495d42210",
   "metadata": {},
   "outputs": [],
   "source": [
    "html_str2 = \"<h2> Major Component Versions </h2>\" + result1[0]['generated_text']"
   ]
  },
  {
   "cell_type": "code",
   "execution_count": 27,
   "id": "8d49f4ab-c15c-407f-ab19-624f50a0b82c",
   "metadata": {},
   "outputs": [],
   "source": [
    "file = open('out.html', 'w')\n",
    "file.write(html_str1)\n",
    "file.write(html_str2)\n",
    "file.writelines(lines[1:])\n",
    "file.close()"
   ]
  },
  {
   "cell_type": "code",
   "execution_count": null,
   "id": "d19676ce-a43a-41c9-a7a5-aa6ebf6855e5",
   "metadata": {},
   "outputs": [],
   "source": []
  }
 ],
 "metadata": {
  "kernelspec": {
   "display_name": "pytorch-gpu",
   "language": "python",
   "name": "pytorch-gpu"
  },
  "language_info": {
   "codemirror_mode": {
    "name": "ipython",
    "version": 3
   },
   "file_extension": ".py",
   "mimetype": "text/x-python",
   "name": "python",
   "nbconvert_exporter": "python",
   "pygments_lexer": "ipython3",
   "version": "3.9.18"
  }
 },
 "nbformat": 4,
 "nbformat_minor": 5
}
